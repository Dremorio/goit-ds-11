{
 "cells": [
  {
   "cell_type": "code",
   "execution_count": 1,
   "id": "3f9071dc",
   "metadata": {},
   "outputs": [
    {
     "name": "stdout",
     "output_type": "stream",
     "text": [
      "Downloading data from https://storage.googleapis.com/tensorflow/tf-keras-datasets/imdb.npz\n",
      "\u001b[1m17464789/17464789\u001b[0m \u001b[32m━━━━━━━━━━━━━━━━━━━━\u001b[0m\u001b[37m\u001b[0m \u001b[1m3s\u001b[0m 0us/step\n"
     ]
    }
   ],
   "source": [
    "import pandas as pd\n",
    "import tensorflow as tf\n",
    "from tensorflow.keras.datasets import imdb\n",
    "from tensorflow.keras.preprocessing.sequence import pad_sequences\n",
    "from tensorflow.keras.models import Sequential\n",
    "from tensorflow.keras.layers import Embedding, SimpleRNN, LSTM, Dense, Bidirectional\n",
    "from tensorflow.keras.optimizers import Adam\n",
    "from sklearn.metrics import accuracy_score\n",
    "import matplotlib.pyplot as plt\n",
    "\n",
    "max_features = 10000\n",
    "maxlen = 200\n",
    "\n",
    "(x_train, y_train), (x_test, y_test) = imdb.load_data(num_words=max_features)\n",
    "\n",
    "x_train = pad_sequences(x_train, maxlen=maxlen)\n",
    "x_test = pad_sequences(x_test, maxlen=maxlen)"
   ]
  },
  {
   "cell_type": "code",
   "execution_count": 2,
   "id": "7ae66928",
   "metadata": {},
   "outputs": [],
   "source": [
    "def build_and_train_model(model, x_train, y_train, x_test, y_test, epochs=5):\n",
    "    model.compile(optimizer=Adam(learning_rate=0.001), loss='binary_crossentropy', metrics=['accuracy'])\n",
    "    history = model.fit(x_train, y_train, epochs=epochs, batch_size=64, validation_split=0.2, verbose=2)\n",
    "    y_pred = (model.predict(x_test) > 0.5).astype(\"int32\")\n",
    "    accuracy = accuracy_score(y_test, y_pred)\n",
    "    return accuracy, history\n"
   ]
  },
  {
   "cell_type": "code",
   "execution_count": 3,
   "id": "f4a5cecc",
   "metadata": {},
   "outputs": [
    {
     "name": "stderr",
     "output_type": "stream",
     "text": [
      "d:\\Programming\\goid-ds-11\\.venv\\Lib\\site-packages\\keras\\src\\layers\\core\\embedding.py:90: UserWarning: Argument `input_length` is deprecated. Just remove it.\n",
      "  warnings.warn(\n"
     ]
    },
    {
     "name": "stdout",
     "output_type": "stream",
     "text": [
      "Epoch 1/5\n",
      "313/313 - 22s - 70ms/step - accuracy: 0.6565 - loss: 0.6030 - val_accuracy: 0.6980 - val_loss: 0.5667\n",
      "Epoch 2/5\n",
      "313/313 - 17s - 55ms/step - accuracy: 0.8292 - loss: 0.3978 - val_accuracy: 0.7008 - val_loss: 0.6242\n",
      "Epoch 3/5\n",
      "313/313 - 17s - 55ms/step - accuracy: 0.9125 - loss: 0.2332 - val_accuracy: 0.7800 - val_loss: 0.5033\n",
      "Epoch 4/5\n",
      "313/313 - 17s - 55ms/step - accuracy: 0.9683 - loss: 0.0985 - val_accuracy: 0.8020 - val_loss: 0.5607\n",
      "Epoch 5/5\n",
      "313/313 - 20s - 64ms/step - accuracy: 0.9936 - loss: 0.0317 - val_accuracy: 0.8010 - val_loss: 0.6463\n",
      "\u001b[1m782/782\u001b[0m \u001b[32m━━━━━━━━━━━━━━━━━━━━\u001b[0m\u001b[37m\u001b[0m \u001b[1m12s\u001b[0m 15ms/step\n",
      "RNN Model Accuracy: 0.8011\n"
     ]
    }
   ],
   "source": [
    "rnn_model = Sequential([\n",
    "    Embedding(max_features, 32, input_length=maxlen),\n",
    "    SimpleRNN(32),\n",
    "    Dense(1, activation='sigmoid')\n",
    "])\n",
    "\n",
    "rnn_accuracy, rnn_history = build_and_train_model(rnn_model, x_train, y_train, x_test, y_test)\n",
    "print(f\"RNN Model Accuracy: {rnn_accuracy:.4f}\")"
   ]
  },
  {
   "cell_type": "code",
   "execution_count": 4,
   "id": "0fc63e30",
   "metadata": {},
   "outputs": [
    {
     "name": "stdout",
     "output_type": "stream",
     "text": [
      "Epoch 1/5\n"
     ]
    },
    {
     "name": "stderr",
     "output_type": "stream",
     "text": [
      "d:\\Programming\\goid-ds-11\\.venv\\Lib\\site-packages\\keras\\src\\layers\\core\\embedding.py:90: UserWarning: Argument `input_length` is deprecated. Just remove it.\n",
      "  warnings.warn(\n"
     ]
    },
    {
     "name": "stdout",
     "output_type": "stream",
     "text": [
      "313/313 - 39s - 124ms/step - accuracy: 0.7735 - loss: 0.4706 - val_accuracy: 0.8614 - val_loss: 0.3402\n",
      "Epoch 2/5\n",
      "313/313 - 35s - 111ms/step - accuracy: 0.8958 - loss: 0.2647 - val_accuracy: 0.8742 - val_loss: 0.3050\n",
      "Epoch 3/5\n",
      "313/313 - 34s - 109ms/step - accuracy: 0.9276 - loss: 0.1939 - val_accuracy: 0.8612 - val_loss: 0.3584\n",
      "Epoch 4/5\n",
      "313/313 - 34s - 109ms/step - accuracy: 0.9474 - loss: 0.1472 - val_accuracy: 0.8700 - val_loss: 0.3491\n",
      "Epoch 5/5\n",
      "313/313 - 34s - 110ms/step - accuracy: 0.9621 - loss: 0.1117 - val_accuracy: 0.8678 - val_loss: 0.4161\n",
      "\u001b[1m782/782\u001b[0m \u001b[32m━━━━━━━━━━━━━━━━━━━━\u001b[0m\u001b[37m\u001b[0m \u001b[1m24s\u001b[0m 30ms/step\n",
      "LSTM Model Accuracy: 0.8562\n"
     ]
    }
   ],
   "source": [
    "lstm_model = Sequential([\n",
    "    Embedding(max_features, 32, input_length=maxlen),\n",
    "    LSTM(32),\n",
    "    Dense(1, activation='sigmoid')\n",
    "])\n",
    "\n",
    "lstm_accuracy, lstm_history = build_and_train_model(lstm_model, x_train, y_train, x_test, y_test)\n",
    "print(f\"LSTM Model Accuracy: {lstm_accuracy:.4f}\")\n"
   ]
  },
  {
   "cell_type": "code",
   "execution_count": 5,
   "id": "153a7e9c",
   "metadata": {},
   "outputs": [
    {
     "name": "stdout",
     "output_type": "stream",
     "text": [
      "Epoch 1/5\n"
     ]
    },
    {
     "name": "stderr",
     "output_type": "stream",
     "text": [
      "d:\\Programming\\goid-ds-11\\.venv\\Lib\\site-packages\\keras\\src\\layers\\core\\embedding.py:90: UserWarning: Argument `input_length` is deprecated. Just remove it.\n",
      "  warnings.warn(\n"
     ]
    },
    {
     "name": "stdout",
     "output_type": "stream",
     "text": [
      "313/313 - 42s - 135ms/step - accuracy: 0.7467 - loss: 0.4948 - val_accuracy: 0.8394 - val_loss: 0.3743\n",
      "Epoch 2/5\n",
      "313/313 - 35s - 111ms/step - accuracy: 0.8915 - loss: 0.2739 - val_accuracy: 0.8708 - val_loss: 0.3149\n",
      "Epoch 3/5\n",
      "313/313 - 41s - 131ms/step - accuracy: 0.9288 - loss: 0.1991 - val_accuracy: 0.8450 - val_loss: 0.3640\n",
      "Epoch 4/5\n",
      "313/313 - 39s - 125ms/step - accuracy: 0.9456 - loss: 0.1567 - val_accuracy: 0.8716 - val_loss: 0.3608\n",
      "Epoch 5/5\n",
      "313/313 - 38s - 122ms/step - accuracy: 0.9572 - loss: 0.1233 - val_accuracy: 0.8624 - val_loss: 0.3459\n",
      "\u001b[1m782/782\u001b[0m \u001b[32m━━━━━━━━━━━━━━━━━━━━\u001b[0m\u001b[37m\u001b[0m \u001b[1m32s\u001b[0m 40ms/step\n",
      "Bidirectional LSTM Model Accuracy: 0.8566\n"
     ]
    }
   ],
   "source": [
    "bilstm_model = Sequential([\n",
    "    Embedding(max_features, 32, input_length=maxlen),\n",
    "    Bidirectional(LSTM(32)),\n",
    "    Dense(1, activation='sigmoid')\n",
    "])\n",
    "\n",
    "bilstm_accuracy, bilstm_history = build_and_train_model(bilstm_model, x_train, y_train, x_test, y_test)\n",
    "print(f\"Bidirectional LSTM Model Accuracy: {bilstm_accuracy:.4f}\")\n"
   ]
  },
  {
   "cell_type": "code",
   "execution_count": 6,
   "id": "389b4893",
   "metadata": {},
   "outputs": [
    {
     "name": "stdout",
     "output_type": "stream",
     "text": [
      "Epoch 1/5\n"
     ]
    },
    {
     "name": "stderr",
     "output_type": "stream",
     "text": [
      "d:\\Programming\\goid-ds-11\\.venv\\Lib\\site-packages\\keras\\src\\layers\\core\\embedding.py:90: UserWarning: Argument `input_length` is deprecated. Just remove it.\n",
      "  warnings.warn(\n"
     ]
    },
    {
     "name": "stdout",
     "output_type": "stream",
     "text": [
      "313/313 - 88s - 280ms/step - accuracy: 0.7929 - loss: 0.4337 - val_accuracy: 0.8624 - val_loss: 0.3341\n",
      "Epoch 2/5\n",
      "313/313 - 94s - 301ms/step - accuracy: 0.9026 - loss: 0.2496 - val_accuracy: 0.8696 - val_loss: 0.3065\n",
      "Epoch 3/5\n",
      "313/313 - 100s - 318ms/step - accuracy: 0.9313 - loss: 0.1857 - val_accuracy: 0.8728 - val_loss: 0.3195\n",
      "Epoch 4/5\n",
      "313/313 - 98s - 312ms/step - accuracy: 0.9467 - loss: 0.1496 - val_accuracy: 0.8700 - val_loss: 0.3519\n",
      "Epoch 5/5\n",
      "313/313 - 98s - 312ms/step - accuracy: 0.9620 - loss: 0.1091 - val_accuracy: 0.8662 - val_loss: 0.4158\n",
      "\u001b[1m782/782\u001b[0m \u001b[32m━━━━━━━━━━━━━━━━━━━━\u001b[0m\u001b[37m\u001b[0m \u001b[1m66s\u001b[0m 84ms/step\n",
      "Deep LSTM Model Accuracy: 0.8507\n"
     ]
    }
   ],
   "source": [
    "deep_lstm_model = Sequential([\n",
    "    Embedding(max_features, 32, input_length=maxlen),\n",
    "    LSTM(32, return_sequences=True),\n",
    "    LSTM(32),\n",
    "    Dense(1, activation='sigmoid')\n",
    "])\n",
    "\n",
    "deep_lstm_accuracy, deep_lstm_history = build_and_train_model(deep_lstm_model, x_train, y_train, x_test, y_test)\n",
    "print(f\"Deep LSTM Model Accuracy: {deep_lstm_accuracy:.4f}\")\n"
   ]
  },
  {
   "cell_type": "code",
   "execution_count": 7,
   "id": "6852adee",
   "metadata": {},
   "outputs": [
    {
     "data": {
      "image/png": "[encoded data removed]",
      "text/plain": [
       "<Figure size 640x480 with 1 Axes>"
      ]
     },
     "metadata": {},
     "output_type": "display_data"
    },
    {
     "data": {
      "text/html": [
       "<div>\n",
       "<style scoped>\n",
       "    .dataframe tbody tr th:only-of-type {\n",
       "        vertical-align: middle;\n",
       "    }\n",
       "\n",
       "    .dataframe tbody tr th {\n",
       "        vertical-align: top;\n",
       "    }\n",
       "\n",
       "    .dataframe thead th {\n",
       "        text-align: right;\n",
       "    }\n",
       "</style>\n",
       "<table border=\"1\" class=\"dataframe\">\n",
       "  <thead>\n",
       "    <tr style=\"text-align: right;\">\n",
       "      <th></th>\n",
       "      <th>Model</th>\n",
       "      <th>Accuracy</th>\n",
       "    </tr>\n",
       "  </thead>\n",
       "  <tbody>\n",
       "    <tr>\n",
       "      <th>0</th>\n",
       "      <td>RNN</td>\n",
       "      <td>0.80112</td>\n",
       "    </tr>\n",
       "    <tr>\n",
       "      <th>1</th>\n",
       "      <td>LSTM</td>\n",
       "      <td>0.85624</td>\n",
       "    </tr>\n",
       "    <tr>\n",
       "      <th>2</th>\n",
       "      <td>Bidirectional LSTM</td>\n",
       "      <td>0.85660</td>\n",
       "    </tr>\n",
       "    <tr>\n",
       "      <th>3</th>\n",
       "      <td>Deep LSTM</td>\n",
       "      <td>0.85068</td>\n",
       "    </tr>\n",
       "  </tbody>\n",
       "</table>\n",
       "</div>"
      ],
      "text/plain": [
       "                Model  Accuracy\n",
       "0                 RNN   0.80112\n",
       "1                LSTM   0.85624\n",
       "2  Bidirectional LSTM   0.85660\n",
       "3           Deep LSTM   0.85068"
      ]
     },
     "execution_count": 7,
     "metadata": {},
     "output_type": "execute_result"
    }
   ],
   "source": [
    "results = {\n",
    "    'Model': ['RNN', 'LSTM', 'Bidirectional LSTM', 'Deep LSTM'],\n",
    "    'Accuracy': [rnn_accuracy, lstm_accuracy, bilstm_accuracy, deep_lstm_accuracy]\n",
    "}\n",
    "\n",
    "results_df = pd.DataFrame(results)\n",
    "results_df.plot(kind='bar', x='Model', y='Accuracy', legend=False, title='Model Accuracy Comparison')\n",
    "plt.ylabel('Accuracy')\n",
    "plt.ylim(0, 1)\n",
    "plt.show()\n",
    "\n",
    "results_df"
   ]
  }
 ],
 "metadata": {
  "kernelspec": {
   "display_name": ".venv",
   "language": "python",
   "name": "python3"
  },
  "language_info": {
   "codemirror_mode": {
    "name": "ipython",
    "version": 3
   },
   "file_extension": ".py",
   "mimetype": "text/x-python",
   "name": "python",
   "nbconvert_exporter": "python",
   "pygments_lexer": "ipython3",
   "version": "3.12.1"
  }
 },
 "nbformat": 4,
 "nbformat_minor": 5
}
